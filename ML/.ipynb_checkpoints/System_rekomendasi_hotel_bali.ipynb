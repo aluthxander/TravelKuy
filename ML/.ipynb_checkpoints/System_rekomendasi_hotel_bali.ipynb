{
  "nbformat": 4,
  "nbformat_minor": 0,
  "metadata": {
    "colab": {
      "name": "System_rekomendasi_hotel_bali.ipynb",
      "provenance": [],
      "collapsed_sections": []
    },
    "kernelspec": {
      "name": "python3",
      "display_name": "Python 3"
    },
    "language_info": {
      "name": "python"
    }
  },
  "cells": [
    {
      "cell_type": "markdown",
      "source": [
        "# Import Package"
      ],
      "metadata": {
        "id": "i0HtSY8AQOUq"
      }
    },
    {
      "cell_type": "code",
      "execution_count": 1,
      "metadata": {
        "id": "1ZuHGbQ8PLE5"
      },
      "outputs": [],
      "source": [
        "import numpy as np\n",
        "import pandas as pd \n",
        "\n",
        "import tensorflow as tf\n",
        "from tensorflow import keras\n",
        "from tensorflow.keras import layers"
      ]
    },
    {
      "cell_type": "markdown",
      "source": [
        "# Import Dataset"
      ],
      "metadata": {
        "id": "YtNefsmYQsKq"
      }
    },
    {
      "cell_type": "code",
      "source": [
        "rating = pd.read_csv('/content/hotel_rating.csv')\n",
        "hotel = pd.read_csv('/content/Dataset_hotel_Bali.csv')\n",
        "user = pd.read_csv('/content/user.csv')"
      ],
      "metadata": {
        "id": "wE_NaQVuQxN1"
      },
      "execution_count": 4,
      "outputs": []
    },
    {
      "cell_type": "code",
      "source": [
        "# melihat ukuran data\n",
        "print(f'rating : {rating.shape}')\n",
        "print(f'hotel : {hotel.shape}')\n",
        "print(f'user : {user.shape}')"
      ],
      "metadata": {
        "colab": {
          "base_uri": "https://localhost:8080/"
        },
        "id": "zyqq3T6PRZ-U",
        "outputId": "a99361c3-6a60-4560-e225-ba041c1f63fd"
      },
      "execution_count": 5,
      "outputs": [
        {
          "output_type": "stream",
          "name": "stdout",
          "text": [
            "rating : (10000, 3)\n",
            "hotel : (50, 10)\n",
            "user : (300, 3)\n"
          ]
        }
      ]
    },
    {
      "cell_type": "markdown",
      "source": [
        "# Persiapan Dataset"
      ],
      "metadata": {
        "id": "VDeRkOWsSpUV"
      }
    },
    {
      "cell_type": "code",
      "source": [
        "rating.head()"
      ],
      "metadata": {
        "colab": {
          "base_uri": "https://localhost:8080/",
          "height": 206
        },
        "id": "GjLJuU5USDP1",
        "outputId": "2e09ddbd-9832-4ad5-8777-f4f493915b5f"
      },
      "execution_count": 6,
      "outputs": [
        {
          "output_type": "execute_result",
          "data": {
            "text/plain": [
              "   User_Id  Place_Id  Place_Ratings\n",
              "0        1        42              3\n",
              "1        1        22              2\n",
              "2        1         1              5\n",
              "3        1        15              3\n",
              "4        1        40              4"
            ],
            "text/html": [
              "\n",
              "  <div id=\"df-749d8b87-9e30-44b6-adcd-8be96be0bbb8\">\n",
              "    <div class=\"colab-df-container\">\n",
              "      <div>\n",
              "<style scoped>\n",
              "    .dataframe tbody tr th:only-of-type {\n",
              "        vertical-align: middle;\n",
              "    }\n",
              "\n",
              "    .dataframe tbody tr th {\n",
              "        vertical-align: top;\n",
              "    }\n",
              "\n",
              "    .dataframe thead th {\n",
              "        text-align: right;\n",
              "    }\n",
              "</style>\n",
              "<table border=\"1\" class=\"dataframe\">\n",
              "  <thead>\n",
              "    <tr style=\"text-align: right;\">\n",
              "      <th></th>\n",
              "      <th>User_Id</th>\n",
              "      <th>Place_Id</th>\n",
              "      <th>Place_Ratings</th>\n",
              "    </tr>\n",
              "  </thead>\n",
              "  <tbody>\n",
              "    <tr>\n",
              "      <th>0</th>\n",
              "      <td>1</td>\n",
              "      <td>42</td>\n",
              "      <td>3</td>\n",
              "    </tr>\n",
              "    <tr>\n",
              "      <th>1</th>\n",
              "      <td>1</td>\n",
              "      <td>22</td>\n",
              "      <td>2</td>\n",
              "    </tr>\n",
              "    <tr>\n",
              "      <th>2</th>\n",
              "      <td>1</td>\n",
              "      <td>1</td>\n",
              "      <td>5</td>\n",
              "    </tr>\n",
              "    <tr>\n",
              "      <th>3</th>\n",
              "      <td>1</td>\n",
              "      <td>15</td>\n",
              "      <td>3</td>\n",
              "    </tr>\n",
              "    <tr>\n",
              "      <th>4</th>\n",
              "      <td>1</td>\n",
              "      <td>40</td>\n",
              "      <td>4</td>\n",
              "    </tr>\n",
              "  </tbody>\n",
              "</table>\n",
              "</div>\n",
              "      <button class=\"colab-df-convert\" onclick=\"convertToInteractive('df-749d8b87-9e30-44b6-adcd-8be96be0bbb8')\"\n",
              "              title=\"Convert this dataframe to an interactive table.\"\n",
              "              style=\"display:none;\">\n",
              "        \n",
              "  <svg xmlns=\"http://www.w3.org/2000/svg\" height=\"24px\"viewBox=\"0 0 24 24\"\n",
              "       width=\"24px\">\n",
              "    <path d=\"M0 0h24v24H0V0z\" fill=\"none\"/>\n",
              "    <path d=\"M18.56 5.44l.94 2.06.94-2.06 2.06-.94-2.06-.94-.94-2.06-.94 2.06-2.06.94zm-11 1L8.5 8.5l.94-2.06 2.06-.94-2.06-.94L8.5 2.5l-.94 2.06-2.06.94zm10 10l.94 2.06.94-2.06 2.06-.94-2.06-.94-.94-2.06-.94 2.06-2.06.94z\"/><path d=\"M17.41 7.96l-1.37-1.37c-.4-.4-.92-.59-1.43-.59-.52 0-1.04.2-1.43.59L10.3 9.45l-7.72 7.72c-.78.78-.78 2.05 0 2.83L4 21.41c.39.39.9.59 1.41.59.51 0 1.02-.2 1.41-.59l7.78-7.78 2.81-2.81c.8-.78.8-2.07 0-2.86zM5.41 20L4 18.59l7.72-7.72 1.47 1.35L5.41 20z\"/>\n",
              "  </svg>\n",
              "      </button>\n",
              "      \n",
              "  <style>\n",
              "    .colab-df-container {\n",
              "      display:flex;\n",
              "      flex-wrap:wrap;\n",
              "      gap: 12px;\n",
              "    }\n",
              "\n",
              "    .colab-df-convert {\n",
              "      background-color: #E8F0FE;\n",
              "      border: none;\n",
              "      border-radius: 50%;\n",
              "      cursor: pointer;\n",
              "      display: none;\n",
              "      fill: #1967D2;\n",
              "      height: 32px;\n",
              "      padding: 0 0 0 0;\n",
              "      width: 32px;\n",
              "    }\n",
              "\n",
              "    .colab-df-convert:hover {\n",
              "      background-color: #E2EBFA;\n",
              "      box-shadow: 0px 1px 2px rgba(60, 64, 67, 0.3), 0px 1px 3px 1px rgba(60, 64, 67, 0.15);\n",
              "      fill: #174EA6;\n",
              "    }\n",
              "\n",
              "    [theme=dark] .colab-df-convert {\n",
              "      background-color: #3B4455;\n",
              "      fill: #D2E3FC;\n",
              "    }\n",
              "\n",
              "    [theme=dark] .colab-df-convert:hover {\n",
              "      background-color: #434B5C;\n",
              "      box-shadow: 0px 1px 3px 1px rgba(0, 0, 0, 0.15);\n",
              "      filter: drop-shadow(0px 1px 2px rgba(0, 0, 0, 0.3));\n",
              "      fill: #FFFFFF;\n",
              "    }\n",
              "  </style>\n",
              "\n",
              "      <script>\n",
              "        const buttonEl =\n",
              "          document.querySelector('#df-749d8b87-9e30-44b6-adcd-8be96be0bbb8 button.colab-df-convert');\n",
              "        buttonEl.style.display =\n",
              "          google.colab.kernel.accessAllowed ? 'block' : 'none';\n",
              "\n",
              "        async function convertToInteractive(key) {\n",
              "          const element = document.querySelector('#df-749d8b87-9e30-44b6-adcd-8be96be0bbb8');\n",
              "          const dataTable =\n",
              "            await google.colab.kernel.invokeFunction('convertToInteractive',\n",
              "                                                     [key], {});\n",
              "          if (!dataTable) return;\n",
              "\n",
              "          const docLinkHtml = 'Like what you see? Visit the ' +\n",
              "            '<a target=\"_blank\" href=https://colab.research.google.com/notebooks/data_table.ipynb>data table notebook</a>'\n",
              "            + ' to learn more about interactive tables.';\n",
              "          element.innerHTML = '';\n",
              "          dataTable['output_type'] = 'display_data';\n",
              "          await google.colab.output.renderOutput(dataTable, element);\n",
              "          const docLink = document.createElement('div');\n",
              "          docLink.innerHTML = docLinkHtml;\n",
              "          element.appendChild(docLink);\n",
              "        }\n",
              "      </script>\n",
              "    </div>\n",
              "  </div>\n",
              "  "
            ]
          },
          "metadata": {},
          "execution_count": 6
        }
      ]
    },
    {
      "cell_type": "code",
      "source": [
        "# membuang kolom unnamed\n",
        "# rating = rating.drop(columns='Unnamed: 0')\n",
        "# rating.head()"
      ],
      "metadata": {
        "id": "A6H35j1fSIfS"
      },
      "execution_count": 7,
      "outputs": []
    },
    {
      "cell_type": "code",
      "source": [
        "user.head()"
      ],
      "metadata": {
        "colab": {
          "base_uri": "https://localhost:8080/",
          "height": 206
        },
        "id": "LiwCNuWESspr",
        "outputId": "27556335-1a8c-4d4c-b6d3-3fb64d6ba1b9"
      },
      "execution_count": 8,
      "outputs": [
        {
          "output_type": "execute_result",
          "data": {
            "text/plain": [
              "   User_Id                   Location  Age\n",
              "0        1      Semarang, Jawa Tengah   20\n",
              "1        2         Bekasi, Jawa Barat   21\n",
              "2        3        Cirebon, Jawa Barat   23\n",
              "3        4         Bekasi, Jawa Barat   21\n",
              "4        5  Lampung, Sumatera Selatan   20"
            ],
            "text/html": [
              "\n",
              "  <div id=\"df-e294baa9-dfb2-4c3f-b1fd-04e7cac831bb\">\n",
              "    <div class=\"colab-df-container\">\n",
              "      <div>\n",
              "<style scoped>\n",
              "    .dataframe tbody tr th:only-of-type {\n",
              "        vertical-align: middle;\n",
              "    }\n",
              "\n",
              "    .dataframe tbody tr th {\n",
              "        vertical-align: top;\n",
              "    }\n",
              "\n",
              "    .dataframe thead th {\n",
              "        text-align: right;\n",
              "    }\n",
              "</style>\n",
              "<table border=\"1\" class=\"dataframe\">\n",
              "  <thead>\n",
              "    <tr style=\"text-align: right;\">\n",
              "      <th></th>\n",
              "      <th>User_Id</th>\n",
              "      <th>Location</th>\n",
              "      <th>Age</th>\n",
              "    </tr>\n",
              "  </thead>\n",
              "  <tbody>\n",
              "    <tr>\n",
              "      <th>0</th>\n",
              "      <td>1</td>\n",
              "      <td>Semarang, Jawa Tengah</td>\n",
              "      <td>20</td>\n",
              "    </tr>\n",
              "    <tr>\n",
              "      <th>1</th>\n",
              "      <td>2</td>\n",
              "      <td>Bekasi, Jawa Barat</td>\n",
              "      <td>21</td>\n",
              "    </tr>\n",
              "    <tr>\n",
              "      <th>2</th>\n",
              "      <td>3</td>\n",
              "      <td>Cirebon, Jawa Barat</td>\n",
              "      <td>23</td>\n",
              "    </tr>\n",
              "    <tr>\n",
              "      <th>3</th>\n",
              "      <td>4</td>\n",
              "      <td>Bekasi, Jawa Barat</td>\n",
              "      <td>21</td>\n",
              "    </tr>\n",
              "    <tr>\n",
              "      <th>4</th>\n",
              "      <td>5</td>\n",
              "      <td>Lampung, Sumatera Selatan</td>\n",
              "      <td>20</td>\n",
              "    </tr>\n",
              "  </tbody>\n",
              "</table>\n",
              "</div>\n",
              "      <button class=\"colab-df-convert\" onclick=\"convertToInteractive('df-e294baa9-dfb2-4c3f-b1fd-04e7cac831bb')\"\n",
              "              title=\"Convert this dataframe to an interactive table.\"\n",
              "              style=\"display:none;\">\n",
              "        \n",
              "  <svg xmlns=\"http://www.w3.org/2000/svg\" height=\"24px\"viewBox=\"0 0 24 24\"\n",
              "       width=\"24px\">\n",
              "    <path d=\"M0 0h24v24H0V0z\" fill=\"none\"/>\n",
              "    <path d=\"M18.56 5.44l.94 2.06.94-2.06 2.06-.94-2.06-.94-.94-2.06-.94 2.06-2.06.94zm-11 1L8.5 8.5l.94-2.06 2.06-.94-2.06-.94L8.5 2.5l-.94 2.06-2.06.94zm10 10l.94 2.06.94-2.06 2.06-.94-2.06-.94-.94-2.06-.94 2.06-2.06.94z\"/><path d=\"M17.41 7.96l-1.37-1.37c-.4-.4-.92-.59-1.43-.59-.52 0-1.04.2-1.43.59L10.3 9.45l-7.72 7.72c-.78.78-.78 2.05 0 2.83L4 21.41c.39.39.9.59 1.41.59.51 0 1.02-.2 1.41-.59l7.78-7.78 2.81-2.81c.8-.78.8-2.07 0-2.86zM5.41 20L4 18.59l7.72-7.72 1.47 1.35L5.41 20z\"/>\n",
              "  </svg>\n",
              "      </button>\n",
              "      \n",
              "  <style>\n",
              "    .colab-df-container {\n",
              "      display:flex;\n",
              "      flex-wrap:wrap;\n",
              "      gap: 12px;\n",
              "    }\n",
              "\n",
              "    .colab-df-convert {\n",
              "      background-color: #E8F0FE;\n",
              "      border: none;\n",
              "      border-radius: 50%;\n",
              "      cursor: pointer;\n",
              "      display: none;\n",
              "      fill: #1967D2;\n",
              "      height: 32px;\n",
              "      padding: 0 0 0 0;\n",
              "      width: 32px;\n",
              "    }\n",
              "\n",
              "    .colab-df-convert:hover {\n",
              "      background-color: #E2EBFA;\n",
              "      box-shadow: 0px 1px 2px rgba(60, 64, 67, 0.3), 0px 1px 3px 1px rgba(60, 64, 67, 0.15);\n",
              "      fill: #174EA6;\n",
              "    }\n",
              "\n",
              "    [theme=dark] .colab-df-convert {\n",
              "      background-color: #3B4455;\n",
              "      fill: #D2E3FC;\n",
              "    }\n",
              "\n",
              "    [theme=dark] .colab-df-convert:hover {\n",
              "      background-color: #434B5C;\n",
              "      box-shadow: 0px 1px 3px 1px rgba(0, 0, 0, 0.15);\n",
              "      filter: drop-shadow(0px 1px 2px rgba(0, 0, 0, 0.3));\n",
              "      fill: #FFFFFF;\n",
              "    }\n",
              "  </style>\n",
              "\n",
              "      <script>\n",
              "        const buttonEl =\n",
              "          document.querySelector('#df-e294baa9-dfb2-4c3f-b1fd-04e7cac831bb button.colab-df-convert');\n",
              "        buttonEl.style.display =\n",
              "          google.colab.kernel.accessAllowed ? 'block' : 'none';\n",
              "\n",
              "        async function convertToInteractive(key) {\n",
              "          const element = document.querySelector('#df-e294baa9-dfb2-4c3f-b1fd-04e7cac831bb');\n",
              "          const dataTable =\n",
              "            await google.colab.kernel.invokeFunction('convertToInteractive',\n",
              "                                                     [key], {});\n",
              "          if (!dataTable) return;\n",
              "\n",
              "          const docLinkHtml = 'Like what you see? Visit the ' +\n",
              "            '<a target=\"_blank\" href=https://colab.research.google.com/notebooks/data_table.ipynb>data table notebook</a>'\n",
              "            + ' to learn more about interactive tables.';\n",
              "          element.innerHTML = '';\n",
              "          dataTable['output_type'] = 'display_data';\n",
              "          await google.colab.output.renderOutput(dataTable, element);\n",
              "          const docLink = document.createElement('div');\n",
              "          docLink.innerHTML = docLinkHtml;\n",
              "          element.appendChild(docLink);\n",
              "        }\n",
              "      </script>\n",
              "    </div>\n",
              "  </div>\n",
              "  "
            ]
          },
          "metadata": {},
          "execution_count": 8
        }
      ]
    },
    {
      "cell_type": "code",
      "source": [
        "df = rating.copy()"
      ],
      "metadata": {
        "id": "GJeubNL3TcDD"
      },
      "execution_count": 9,
      "outputs": []
    },
    {
      "cell_type": "code",
      "source": [
        "#ENCODING\n",
        "def dict_encoder(col, data=df):\n",
        "  unique_val = data[col].unique().tolist()\n",
        "  val_to_val_encoded = {x: i for i, x in enumerate(unique_val)}\n",
        "  val_encoded_to_val = {i: x for i, x in enumerate(unique_val)}\n",
        "  return val_to_val_encoded, val_encoded_to_val"
      ],
      "metadata": {
        "id": "kTaZShInTSQk"
      },
      "execution_count": 10,
      "outputs": []
    },
    {
      "cell_type": "code",
      "source": [
        "user_to_user_encoded, user_encoded_to_user = dict_encoder('User_Id')\n",
        "df['user'] = df['User_Id'].map(user_to_user_encoded)"
      ],
      "metadata": {
        "id": "fmGvOFj0Tp4j"
      },
      "execution_count": 11,
      "outputs": []
    },
    {
      "cell_type": "code",
      "source": [
        "# Encoding Place_Id\n",
        "place_to_place_encoded, place_encoded_to_place = dict_encoder('Place_Id')\n",
        "\n",
        "# Mapping Place_Id ke dataframe place\n",
        "df['place'] = df['Place_Id'].map(place_to_place_encoded)"
      ],
      "metadata": {
        "id": "vJ5kdtA7UBTc"
      },
      "execution_count": 12,
      "outputs": []
    },
    {
      "cell_type": "code",
      "source": [
        "# Mendapatkan jumlah user dan hotel\n",
        "num_users, num_place = len(user_to_user_encoded), len(place_to_place_encoded)\n",
        "# mengubah nilai rating menjadi nilai float\n",
        "df['Place_Ratings'] = df['Place_Ratings'].values.astype(np.float32)\n",
        "# Mendapatkan nilai minimum dan maksimum rating\n",
        "min_rating, max_rating = min(df['Place_Ratings']), max(df['Place_Ratings'])\n"
      ],
      "metadata": {
        "id": "HaZHJ7xrUKu3"
      },
      "execution_count": 13,
      "outputs": []
    },
    {
      "cell_type": "code",
      "source": [
        "print(f'Jumlah user : {num_users}')\n",
        "print(f'Jumlah Hotel : {num_place}')\n",
        "print(f'Rating minimum : {min_rating}')\n",
        "print(f'Rating maximum : {max_rating}')"
      ],
      "metadata": {
        "colab": {
          "base_uri": "https://localhost:8080/"
        },
        "id": "2kgX5p8_VWlS",
        "outputId": "62640b23-d31f-484f-e542-4b7318940c48"
      },
      "execution_count": 14,
      "outputs": [
        {
          "output_type": "stream",
          "name": "stdout",
          "text": [
            "Jumlah user : 300\n",
            "Jumlah Hotel : 49\n",
            "Rating minimum : 1.0\n",
            "Rating maximum : 5.0\n"
          ]
        }
      ]
    },
    {
      "cell_type": "code",
      "source": [
        "# Mengacak dataset\n",
        "df = df.sample(frac=1, random_state=42)\n",
        "df.head()"
      ],
      "metadata": {
        "colab": {
          "base_uri": "https://localhost:8080/",
          "height": 206
        },
        "id": "QE_ho8YhV0N8",
        "outputId": "fed1790a-9d0e-4586-a1b9-d0c55b8d70cd"
      },
      "execution_count": 15,
      "outputs": [
        {
          "output_type": "execute_result",
          "data": {
            "text/plain": [
              "      User_Id  Place_Id  Place_Ratings  user  place\n",
              "6252      188        20            3.0   187     27\n",
              "4684      142        11            2.0   141     37\n",
              "1731       54        33            3.0    53     47\n",
              "4742      144         4            3.0   143     40\n",
              "4521      138        20            5.0   137     27"
            ],
            "text/html": [
              "\n",
              "  <div id=\"df-c2b78bb5-448d-4df8-b748-e6d898732a54\">\n",
              "    <div class=\"colab-df-container\">\n",
              "      <div>\n",
              "<style scoped>\n",
              "    .dataframe tbody tr th:only-of-type {\n",
              "        vertical-align: middle;\n",
              "    }\n",
              "\n",
              "    .dataframe tbody tr th {\n",
              "        vertical-align: top;\n",
              "    }\n",
              "\n",
              "    .dataframe thead th {\n",
              "        text-align: right;\n",
              "    }\n",
              "</style>\n",
              "<table border=\"1\" class=\"dataframe\">\n",
              "  <thead>\n",
              "    <tr style=\"text-align: right;\">\n",
              "      <th></th>\n",
              "      <th>User_Id</th>\n",
              "      <th>Place_Id</th>\n",
              "      <th>Place_Ratings</th>\n",
              "      <th>user</th>\n",
              "      <th>place</th>\n",
              "    </tr>\n",
              "  </thead>\n",
              "  <tbody>\n",
              "    <tr>\n",
              "      <th>6252</th>\n",
              "      <td>188</td>\n",
              "      <td>20</td>\n",
              "      <td>3.0</td>\n",
              "      <td>187</td>\n",
              "      <td>27</td>\n",
              "    </tr>\n",
              "    <tr>\n",
              "      <th>4684</th>\n",
              "      <td>142</td>\n",
              "      <td>11</td>\n",
              "      <td>2.0</td>\n",
              "      <td>141</td>\n",
              "      <td>37</td>\n",
              "    </tr>\n",
              "    <tr>\n",
              "      <th>1731</th>\n",
              "      <td>54</td>\n",
              "      <td>33</td>\n",
              "      <td>3.0</td>\n",
              "      <td>53</td>\n",
              "      <td>47</td>\n",
              "    </tr>\n",
              "    <tr>\n",
              "      <th>4742</th>\n",
              "      <td>144</td>\n",
              "      <td>4</td>\n",
              "      <td>3.0</td>\n",
              "      <td>143</td>\n",
              "      <td>40</td>\n",
              "    </tr>\n",
              "    <tr>\n",
              "      <th>4521</th>\n",
              "      <td>138</td>\n",
              "      <td>20</td>\n",
              "      <td>5.0</td>\n",
              "      <td>137</td>\n",
              "      <td>27</td>\n",
              "    </tr>\n",
              "  </tbody>\n",
              "</table>\n",
              "</div>\n",
              "      <button class=\"colab-df-convert\" onclick=\"convertToInteractive('df-c2b78bb5-448d-4df8-b748-e6d898732a54')\"\n",
              "              title=\"Convert this dataframe to an interactive table.\"\n",
              "              style=\"display:none;\">\n",
              "        \n",
              "  <svg xmlns=\"http://www.w3.org/2000/svg\" height=\"24px\"viewBox=\"0 0 24 24\"\n",
              "       width=\"24px\">\n",
              "    <path d=\"M0 0h24v24H0V0z\" fill=\"none\"/>\n",
              "    <path d=\"M18.56 5.44l.94 2.06.94-2.06 2.06-.94-2.06-.94-.94-2.06-.94 2.06-2.06.94zm-11 1L8.5 8.5l.94-2.06 2.06-.94-2.06-.94L8.5 2.5l-.94 2.06-2.06.94zm10 10l.94 2.06.94-2.06 2.06-.94-2.06-.94-.94-2.06-.94 2.06-2.06.94z\"/><path d=\"M17.41 7.96l-1.37-1.37c-.4-.4-.92-.59-1.43-.59-.52 0-1.04.2-1.43.59L10.3 9.45l-7.72 7.72c-.78.78-.78 2.05 0 2.83L4 21.41c.39.39.9.59 1.41.59.51 0 1.02-.2 1.41-.59l7.78-7.78 2.81-2.81c.8-.78.8-2.07 0-2.86zM5.41 20L4 18.59l7.72-7.72 1.47 1.35L5.41 20z\"/>\n",
              "  </svg>\n",
              "      </button>\n",
              "      \n",
              "  <style>\n",
              "    .colab-df-container {\n",
              "      display:flex;\n",
              "      flex-wrap:wrap;\n",
              "      gap: 12px;\n",
              "    }\n",
              "\n",
              "    .colab-df-convert {\n",
              "      background-color: #E8F0FE;\n",
              "      border: none;\n",
              "      border-radius: 50%;\n",
              "      cursor: pointer;\n",
              "      display: none;\n",
              "      fill: #1967D2;\n",
              "      height: 32px;\n",
              "      padding: 0 0 0 0;\n",
              "      width: 32px;\n",
              "    }\n",
              "\n",
              "    .colab-df-convert:hover {\n",
              "      background-color: #E2EBFA;\n",
              "      box-shadow: 0px 1px 2px rgba(60, 64, 67, 0.3), 0px 1px 3px 1px rgba(60, 64, 67, 0.15);\n",
              "      fill: #174EA6;\n",
              "    }\n",
              "\n",
              "    [theme=dark] .colab-df-convert {\n",
              "      background-color: #3B4455;\n",
              "      fill: #D2E3FC;\n",
              "    }\n",
              "\n",
              "    [theme=dark] .colab-df-convert:hover {\n",
              "      background-color: #434B5C;\n",
              "      box-shadow: 0px 1px 3px 1px rgba(0, 0, 0, 0.15);\n",
              "      filter: drop-shadow(0px 1px 2px rgba(0, 0, 0, 0.3));\n",
              "      fill: #FFFFFF;\n",
              "    }\n",
              "  </style>\n",
              "\n",
              "      <script>\n",
              "        const buttonEl =\n",
              "          document.querySelector('#df-c2b78bb5-448d-4df8-b748-e6d898732a54 button.colab-df-convert');\n",
              "        buttonEl.style.display =\n",
              "          google.colab.kernel.accessAllowed ? 'block' : 'none';\n",
              "\n",
              "        async function convertToInteractive(key) {\n",
              "          const element = document.querySelector('#df-c2b78bb5-448d-4df8-b748-e6d898732a54');\n",
              "          const dataTable =\n",
              "            await google.colab.kernel.invokeFunction('convertToInteractive',\n",
              "                                                     [key], {});\n",
              "          if (!dataTable) return;\n",
              "\n",
              "          const docLinkHtml = 'Like what you see? Visit the ' +\n",
              "            '<a target=\"_blank\" href=https://colab.research.google.com/notebooks/data_table.ipynb>data table notebook</a>'\n",
              "            + ' to learn more about interactive tables.';\n",
              "          element.innerHTML = '';\n",
              "          dataTable['output_type'] = 'display_data';\n",
              "          await google.colab.output.renderOutput(dataTable, element);\n",
              "          const docLink = document.createElement('div');\n",
              "          docLink.innerHTML = docLinkHtml;\n",
              "          element.appendChild(docLink);\n",
              "        }\n",
              "      </script>\n",
              "    </div>\n",
              "  </div>\n",
              "  "
            ]
          },
          "metadata": {},
          "execution_count": 15
        }
      ]
    },
    {
      "cell_type": "markdown",
      "source": [
        "# Splitting Dataset"
      ],
      "metadata": {
        "id": "SJr5WZO4WJvh"
      }
    },
    {
      "cell_type": "code",
      "source": [
        "# Mambuat Variable x\n",
        "x = df[['user', 'place']].values\n",
        "# membuat Variable y\n",
        "y = df['Place_Ratings'].apply(lambda x: (x-min_rating)/(max_rating-min_rating)).values\n",
        "\n",
        "# split dataset\n",
        "indices = int(0.8*df.shape[0])\n",
        "x_train, x_test, y_train, y_test = (x[:indices],\n",
        "                                    x[indices:],\n",
        "                                    y[:indices],\n",
        "                                    y[indices:]\n",
        "                                    )\n",
        "print(f'x_train : {x_train.shape}')\n",
        "print(f'x_test : {x_test.shape}')\n",
        "print(f'y_train : {y_train.shape}')\n",
        "print(f'y_test : {y_test.shape}')"
      ],
      "metadata": {
        "colab": {
          "base_uri": "https://localhost:8080/"
        },
        "id": "1L6t8leIV8Y3",
        "outputId": "2c261812-9d93-465f-e394-03ea17f3cff7"
      },
      "execution_count": 16,
      "outputs": [
        {
          "output_type": "stream",
          "name": "stdout",
          "text": [
            "x_train : (8000, 2)\n",
            "x_test : (2000, 2)\n",
            "y_train : (8000,)\n",
            "y_test : (2000,)\n"
          ]
        }
      ]
    },
    {
      "cell_type": "markdown",
      "source": [
        " # Membuat model"
      ],
      "metadata": {
        "id": "z74bBtqjZOYf"
      }
    },
    {
      "cell_type": "code",
      "source": [
        "class Recommended(keras.Model):\n",
        "  def __init__(self,num_users, num_places, embedding_size, **kwargs):\n",
        "    super(Recommended, self).__init__(**kwargs)\n",
        "    self.num_users = num_users\n",
        "    self.num_places = num_places\n",
        "    self.embedding_size = embedding_size\n",
        "    self.user_embedding = layers.Embedding(num_users,\n",
        "                                           embedding_size,\n",
        "                                           embeddings_initializer = 'he_normal',\n",
        "                                           embeddings_regularizer = keras.regularizers.l2(1e-6)\n",
        "    )\n",
        "    self.user_bias = layers.Embedding(num_users,1)\n",
        "    self.places_embedding = layers.Embedding(num_places,\n",
        "                                             embedding_size,\n",
        "                                             embeddings_initializer='he_normal',\n",
        "                                             embeddings_regularizer= keras.regularizers.l2(1e-6)\n",
        "                                             )\n",
        "    self.places_bias = layers.Embedding(num_places,1)\n",
        "\n",
        "  def call(self, inputs):\n",
        "    user_vec = self.user_embedding(inputs[:,0])\n",
        "    user_bias = self.user_bias(inputs[:,0])\n",
        "    places_vec = self.places_embedding(inputs[:,1])\n",
        "    places_bias = self.places_bias(inputs[:,1])\n",
        "\n",
        "    dot_user_places = tf.tensordot(user_vec, places_vec, 2)\n",
        "\n",
        "    x = dot_user_places + user_bias + places_bias\n",
        "\n",
        "    return tf.nn.sigmoid(x)\n"
      ],
      "metadata": {
        "id": "i61_XlouZNk8"
      },
      "execution_count": 17,
      "outputs": []
    },
    {
      "cell_type": "code",
      "source": [
        "model = Recommended(num_users, num_place, 50)\n",
        "\n",
        "model.compile(loss = keras.losses.BinaryCrossentropy(),\n",
        "              optimizer= keras.optimizers.Adam(learning_rate=0.0004),\n",
        "              metrics=[keras.metrics.RootMeanSquaredError()]\n",
        "              )"
      ],
      "metadata": {
        "id": "YWWJ93aJcgiD"
      },
      "execution_count": 18,
      "outputs": []
    },
    {
      "cell_type": "markdown",
      "source": [
        "# training Model"
      ],
      "metadata": {
        "id": "2bX3yI3gd3g2"
      }
    },
    {
      "cell_type": "code",
      "source": [
        "history = model.fit(\n",
        "    x = x_train,\n",
        "    y = y_train,\n",
        "    epochs = 100,\n",
        "    validation_data = (x_test, y_test)\n",
        ")"
      ],
      "metadata": {
        "colab": {
          "base_uri": "https://localhost:8080/"
        },
        "id": "LWekakHVd20L",
        "outputId": "df17b71e-07c6-4c10-be37-b82c1f3b08f0"
      },
      "execution_count": 19,
      "outputs": [
        {
          "output_type": "stream",
          "name": "stdout",
          "text": [
            "Epoch 1/100\n",
            "250/250 [==============================] - 4s 8ms/step - loss: 0.7393 - root_mean_squared_error: 0.3730 - val_loss: 0.7391 - val_root_mean_squared_error: 0.3734\n",
            "Epoch 2/100\n",
            "250/250 [==============================] - 1s 4ms/step - loss: 0.7340 - root_mean_squared_error: 0.3710 - val_loss: 0.7376 - val_root_mean_squared_error: 0.3726\n",
            "Epoch 3/100\n",
            "250/250 [==============================] - 1s 5ms/step - loss: 0.7344 - root_mean_squared_error: 0.3711 - val_loss: 0.7359 - val_root_mean_squared_error: 0.3716\n",
            "Epoch 4/100\n",
            "250/250 [==============================] - 1s 4ms/step - loss: 0.7255 - root_mean_squared_error: 0.3657 - val_loss: 0.7363 - val_root_mean_squared_error: 0.3717\n",
            "Epoch 5/100\n",
            "250/250 [==============================] - 1s 3ms/step - loss: 0.7270 - root_mean_squared_error: 0.3663 - val_loss: 0.7357 - val_root_mean_squared_error: 0.3712\n",
            "Epoch 6/100\n",
            "250/250 [==============================] - 1s 3ms/step - loss: 0.7220 - root_mean_squared_error: 0.3634 - val_loss: 0.7337 - val_root_mean_squared_error: 0.3703\n",
            "Epoch 7/100\n",
            "250/250 [==============================] - 1s 4ms/step - loss: 0.7215 - root_mean_squared_error: 0.3635 - val_loss: 0.7322 - val_root_mean_squared_error: 0.3694\n",
            "Epoch 8/100\n",
            "250/250 [==============================] - 1s 5ms/step - loss: 0.7179 - root_mean_squared_error: 0.3615 - val_loss: 0.7316 - val_root_mean_squared_error: 0.3690\n",
            "Epoch 9/100\n",
            "250/250 [==============================] - 1s 5ms/step - loss: 0.7145 - root_mean_squared_error: 0.3589 - val_loss: 0.7286 - val_root_mean_squared_error: 0.3675\n",
            "Epoch 10/100\n",
            "250/250 [==============================] - 1s 3ms/step - loss: 0.7227 - root_mean_squared_error: 0.3640 - val_loss: 0.7270 - val_root_mean_squared_error: 0.3665\n",
            "Epoch 11/100\n",
            "250/250 [==============================] - 1s 2ms/step - loss: 0.7118 - root_mean_squared_error: 0.3574 - val_loss: 0.7237 - val_root_mean_squared_error: 0.3645\n",
            "Epoch 12/100\n",
            "250/250 [==============================] - 1s 2ms/step - loss: 0.7106 - root_mean_squared_error: 0.3567 - val_loss: 0.7239 - val_root_mean_squared_error: 0.3646\n",
            "Epoch 13/100\n",
            "250/250 [==============================] - 1s 2ms/step - loss: 0.7093 - root_mean_squared_error: 0.3559 - val_loss: 0.7205 - val_root_mean_squared_error: 0.3626\n",
            "Epoch 14/100\n",
            "250/250 [==============================] - 1s 2ms/step - loss: 0.7062 - root_mean_squared_error: 0.3539 - val_loss: 0.7224 - val_root_mean_squared_error: 0.3637\n",
            "Epoch 15/100\n",
            "250/250 [==============================] - 1s 2ms/step - loss: 0.7087 - root_mean_squared_error: 0.3554 - val_loss: 0.7228 - val_root_mean_squared_error: 0.3639\n",
            "Epoch 16/100\n",
            "250/250 [==============================] - 1s 2ms/step - loss: 0.7073 - root_mean_squared_error: 0.3548 - val_loss: 0.7239 - val_root_mean_squared_error: 0.3645\n",
            "Epoch 17/100\n",
            "250/250 [==============================] - 1s 3ms/step - loss: 0.7045 - root_mean_squared_error: 0.3529 - val_loss: 0.7231 - val_root_mean_squared_error: 0.3640\n",
            "Epoch 18/100\n",
            "250/250 [==============================] - 1s 2ms/step - loss: 0.6962 - root_mean_squared_error: 0.3472 - val_loss: 0.7236 - val_root_mean_squared_error: 0.3643\n",
            "Epoch 19/100\n",
            "250/250 [==============================] - 1s 3ms/step - loss: 0.7014 - root_mean_squared_error: 0.3507 - val_loss: 0.7218 - val_root_mean_squared_error: 0.3633\n",
            "Epoch 20/100\n",
            "250/250 [==============================] - 1s 3ms/step - loss: 0.6999 - root_mean_squared_error: 0.3497 - val_loss: 0.7208 - val_root_mean_squared_error: 0.3628\n",
            "Epoch 21/100\n",
            "250/250 [==============================] - 1s 2ms/step - loss: 0.6942 - root_mean_squared_error: 0.3459 - val_loss: 0.7215 - val_root_mean_squared_error: 0.3632\n",
            "Epoch 22/100\n",
            "250/250 [==============================] - 1s 2ms/step - loss: 0.6955 - root_mean_squared_error: 0.3468 - val_loss: 0.7212 - val_root_mean_squared_error: 0.3631\n",
            "Epoch 23/100\n",
            "250/250 [==============================] - 1s 3ms/step - loss: 0.6977 - root_mean_squared_error: 0.3482 - val_loss: 0.7192 - val_root_mean_squared_error: 0.3619\n",
            "Epoch 24/100\n",
            "250/250 [==============================] - 1s 2ms/step - loss: 0.6940 - root_mean_squared_error: 0.3457 - val_loss: 0.7202 - val_root_mean_squared_error: 0.3624\n",
            "Epoch 25/100\n",
            "250/250 [==============================] - 1s 2ms/step - loss: 0.6950 - root_mean_squared_error: 0.3465 - val_loss: 0.7211 - val_root_mean_squared_error: 0.3629\n",
            "Epoch 26/100\n",
            "250/250 [==============================] - 1s 2ms/step - loss: 0.6914 - root_mean_squared_error: 0.3439 - val_loss: 0.7212 - val_root_mean_squared_error: 0.3631\n",
            "Epoch 27/100\n",
            "250/250 [==============================] - 1s 3ms/step - loss: 0.6943 - root_mean_squared_error: 0.3460 - val_loss: 0.7202 - val_root_mean_squared_error: 0.3625\n",
            "Epoch 28/100\n",
            "250/250 [==============================] - 1s 3ms/step - loss: 0.6920 - root_mean_squared_error: 0.3443 - val_loss: 0.7195 - val_root_mean_squared_error: 0.3620\n",
            "Epoch 29/100\n",
            "250/250 [==============================] - 1s 3ms/step - loss: 0.6901 - root_mean_squared_error: 0.3430 - val_loss: 0.7187 - val_root_mean_squared_error: 0.3615\n",
            "Epoch 30/100\n",
            "250/250 [==============================] - 1s 3ms/step - loss: 0.6915 - root_mean_squared_error: 0.3440 - val_loss: 0.7190 - val_root_mean_squared_error: 0.3617\n",
            "Epoch 31/100\n",
            "250/250 [==============================] - 1s 3ms/step - loss: 0.6907 - root_mean_squared_error: 0.3434 - val_loss: 0.7202 - val_root_mean_squared_error: 0.3624\n",
            "Epoch 32/100\n",
            "250/250 [==============================] - 1s 2ms/step - loss: 0.6897 - root_mean_squared_error: 0.3428 - val_loss: 0.7201 - val_root_mean_squared_error: 0.3623\n",
            "Epoch 33/100\n",
            "250/250 [==============================] - 1s 2ms/step - loss: 0.6903 - root_mean_squared_error: 0.3432 - val_loss: 0.7199 - val_root_mean_squared_error: 0.3622\n",
            "Epoch 34/100\n",
            "250/250 [==============================] - 1s 2ms/step - loss: 0.6870 - root_mean_squared_error: 0.3408 - val_loss: 0.7199 - val_root_mean_squared_error: 0.3622\n",
            "Epoch 35/100\n",
            "250/250 [==============================] - 1s 2ms/step - loss: 0.6860 - root_mean_squared_error: 0.3401 - val_loss: 0.7206 - val_root_mean_squared_error: 0.3625\n",
            "Epoch 36/100\n",
            "250/250 [==============================] - 1s 2ms/step - loss: 0.6861 - root_mean_squared_error: 0.3402 - val_loss: 0.7188 - val_root_mean_squared_error: 0.3614\n",
            "Epoch 37/100\n",
            "250/250 [==============================] - 1s 3ms/step - loss: 0.6861 - root_mean_squared_error: 0.3402 - val_loss: 0.7197 - val_root_mean_squared_error: 0.3620\n",
            "Epoch 38/100\n",
            "250/250 [==============================] - 1s 2ms/step - loss: 0.6855 - root_mean_squared_error: 0.3397 - val_loss: 0.7180 - val_root_mean_squared_error: 0.3609\n",
            "Epoch 39/100\n",
            "250/250 [==============================] - 1s 3ms/step - loss: 0.6866 - root_mean_squared_error: 0.3406 - val_loss: 0.7174 - val_root_mean_squared_error: 0.3605\n",
            "Epoch 40/100\n",
            "250/250 [==============================] - 1s 3ms/step - loss: 0.6861 - root_mean_squared_error: 0.3401 - val_loss: 0.7165 - val_root_mean_squared_error: 0.3600\n",
            "Epoch 41/100\n",
            "250/250 [==============================] - 1s 3ms/step - loss: 0.6850 - root_mean_squared_error: 0.3394 - val_loss: 0.7147 - val_root_mean_squared_error: 0.3590\n",
            "Epoch 42/100\n",
            "250/250 [==============================] - 1s 3ms/step - loss: 0.6840 - root_mean_squared_error: 0.3387 - val_loss: 0.7146 - val_root_mean_squared_error: 0.3589\n",
            "Epoch 43/100\n",
            "250/250 [==============================] - 1s 3ms/step - loss: 0.6856 - root_mean_squared_error: 0.3398 - val_loss: 0.7155 - val_root_mean_squared_error: 0.3595\n",
            "Epoch 44/100\n",
            "250/250 [==============================] - 1s 2ms/step - loss: 0.6830 - root_mean_squared_error: 0.3380 - val_loss: 0.7143 - val_root_mean_squared_error: 0.3588\n",
            "Epoch 45/100\n",
            "250/250 [==============================] - 1s 3ms/step - loss: 0.6851 - root_mean_squared_error: 0.3395 - val_loss: 0.7130 - val_root_mean_squared_error: 0.3580\n",
            "Epoch 46/100\n",
            "250/250 [==============================] - 1s 3ms/step - loss: 0.6832 - root_mean_squared_error: 0.3381 - val_loss: 0.7127 - val_root_mean_squared_error: 0.3578\n",
            "Epoch 47/100\n",
            "250/250 [==============================] - 1s 3ms/step - loss: 0.6832 - root_mean_squared_error: 0.3381 - val_loss: 0.7130 - val_root_mean_squared_error: 0.3580\n",
            "Epoch 48/100\n",
            "250/250 [==============================] - 1s 2ms/step - loss: 0.6831 - root_mean_squared_error: 0.3380 - val_loss: 0.7122 - val_root_mean_squared_error: 0.3575\n",
            "Epoch 49/100\n",
            "250/250 [==============================] - 1s 2ms/step - loss: 0.6830 - root_mean_squared_error: 0.3380 - val_loss: 0.7130 - val_root_mean_squared_error: 0.3579\n",
            "Epoch 50/100\n",
            "250/250 [==============================] - 1s 2ms/step - loss: 0.6828 - root_mean_squared_error: 0.3378 - val_loss: 0.7127 - val_root_mean_squared_error: 0.3578\n",
            "Epoch 51/100\n",
            "250/250 [==============================] - 1s 3ms/step - loss: 0.6836 - root_mean_squared_error: 0.3384 - val_loss: 0.7121 - val_root_mean_squared_error: 0.3574\n",
            "Epoch 52/100\n",
            "250/250 [==============================] - 1s 3ms/step - loss: 0.6825 - root_mean_squared_error: 0.3376 - val_loss: 0.7117 - val_root_mean_squared_error: 0.3572\n",
            "Epoch 53/100\n",
            "250/250 [==============================] - 1s 3ms/step - loss: 0.6828 - root_mean_squared_error: 0.3378 - val_loss: 0.7114 - val_root_mean_squared_error: 0.3570\n",
            "Epoch 54/100\n",
            "250/250 [==============================] - 1s 3ms/step - loss: 0.6820 - root_mean_squared_error: 0.3373 - val_loss: 0.7113 - val_root_mean_squared_error: 0.3569\n",
            "Epoch 55/100\n",
            "250/250 [==============================] - 1s 2ms/step - loss: 0.6816 - root_mean_squared_error: 0.3370 - val_loss: 0.7121 - val_root_mean_squared_error: 0.3574\n",
            "Epoch 56/100\n",
            "250/250 [==============================] - 1s 2ms/step - loss: 0.6821 - root_mean_squared_error: 0.3373 - val_loss: 0.7121 - val_root_mean_squared_error: 0.3574\n",
            "Epoch 57/100\n",
            "250/250 [==============================] - 1s 2ms/step - loss: 0.6821 - root_mean_squared_error: 0.3373 - val_loss: 0.7115 - val_root_mean_squared_error: 0.3570\n",
            "Epoch 58/100\n",
            "250/250 [==============================] - 1s 3ms/step - loss: 0.6811 - root_mean_squared_error: 0.3366 - val_loss: 0.7107 - val_root_mean_squared_error: 0.3566\n",
            "Epoch 59/100\n",
            "250/250 [==============================] - 1s 3ms/step - loss: 0.6820 - root_mean_squared_error: 0.3373 - val_loss: 0.7104 - val_root_mean_squared_error: 0.3563\n",
            "Epoch 60/100\n",
            "250/250 [==============================] - 1s 3ms/step - loss: 0.6812 - root_mean_squared_error: 0.3367 - val_loss: 0.7102 - val_root_mean_squared_error: 0.3562\n",
            "Epoch 61/100\n",
            "250/250 [==============================] - 1s 3ms/step - loss: 0.6841 - root_mean_squared_error: 0.3387 - val_loss: 0.7100 - val_root_mean_squared_error: 0.3560\n",
            "Epoch 62/100\n",
            "250/250 [==============================] - 1s 3ms/step - loss: 0.6817 - root_mean_squared_error: 0.3370 - val_loss: 0.7101 - val_root_mean_squared_error: 0.3561\n",
            "Epoch 63/100\n",
            "250/250 [==============================] - 1s 2ms/step - loss: 0.6795 - root_mean_squared_error: 0.3354 - val_loss: 0.7090 - val_root_mean_squared_error: 0.3554\n",
            "Epoch 64/100\n",
            "250/250 [==============================] - 1s 3ms/step - loss: 0.6800 - root_mean_squared_error: 0.3358 - val_loss: 0.7098 - val_root_mean_squared_error: 0.3559\n",
            "Epoch 65/100\n",
            "250/250 [==============================] - 1s 3ms/step - loss: 0.6811 - root_mean_squared_error: 0.3366 - val_loss: 0.7086 - val_root_mean_squared_error: 0.3551\n",
            "Epoch 66/100\n",
            "250/250 [==============================] - 1s 2ms/step - loss: 0.6809 - root_mean_squared_error: 0.3365 - val_loss: 0.7088 - val_root_mean_squared_error: 0.3553\n",
            "Epoch 67/100\n",
            "250/250 [==============================] - 1s 3ms/step - loss: 0.6800 - root_mean_squared_error: 0.3358 - val_loss: 0.7101 - val_root_mean_squared_error: 0.3561\n",
            "Epoch 68/100\n",
            "250/250 [==============================] - 1s 3ms/step - loss: 0.6796 - root_mean_squared_error: 0.3355 - val_loss: 0.7109 - val_root_mean_squared_error: 0.3566\n",
            "Epoch 69/100\n",
            "250/250 [==============================] - 1s 3ms/step - loss: 0.6803 - root_mean_squared_error: 0.3360 - val_loss: 0.7111 - val_root_mean_squared_error: 0.3567\n",
            "Epoch 70/100\n",
            "250/250 [==============================] - 1s 3ms/step - loss: 0.6803 - root_mean_squared_error: 0.3360 - val_loss: 0.7105 - val_root_mean_squared_error: 0.3564\n",
            "Epoch 71/100\n",
            "250/250 [==============================] - 1s 3ms/step - loss: 0.6794 - root_mean_squared_error: 0.3354 - val_loss: 0.7107 - val_root_mean_squared_error: 0.3565\n",
            "Epoch 72/100\n",
            "250/250 [==============================] - 1s 3ms/step - loss: 0.6794 - root_mean_squared_error: 0.3354 - val_loss: 0.7110 - val_root_mean_squared_error: 0.3566\n",
            "Epoch 73/100\n",
            "250/250 [==============================] - 1s 3ms/step - loss: 0.6787 - root_mean_squared_error: 0.3348 - val_loss: 0.7120 - val_root_mean_squared_error: 0.3572\n",
            "Epoch 74/100\n",
            "250/250 [==============================] - 1s 3ms/step - loss: 0.6799 - root_mean_squared_error: 0.3357 - val_loss: 0.7113 - val_root_mean_squared_error: 0.3568\n",
            "Epoch 75/100\n",
            "250/250 [==============================] - 1s 3ms/step - loss: 0.6795 - root_mean_squared_error: 0.3354 - val_loss: 0.7116 - val_root_mean_squared_error: 0.3570\n",
            "Epoch 76/100\n",
            "250/250 [==============================] - 1s 2ms/step - loss: 0.6800 - root_mean_squared_error: 0.3358 - val_loss: 0.7112 - val_root_mean_squared_error: 0.3567\n",
            "Epoch 77/100\n",
            "250/250 [==============================] - 1s 3ms/step - loss: 0.6794 - root_mean_squared_error: 0.3354 - val_loss: 0.7110 - val_root_mean_squared_error: 0.3566\n",
            "Epoch 78/100\n",
            "250/250 [==============================] - 1s 3ms/step - loss: 0.6807 - root_mean_squared_error: 0.3363 - val_loss: 0.7114 - val_root_mean_squared_error: 0.3568\n",
            "Epoch 79/100\n",
            "250/250 [==============================] - 1s 2ms/step - loss: 0.6782 - root_mean_squared_error: 0.3345 - val_loss: 0.7113 - val_root_mean_squared_error: 0.3568\n",
            "Epoch 80/100\n",
            "250/250 [==============================] - 1s 3ms/step - loss: 0.6799 - root_mean_squared_error: 0.3357 - val_loss: 0.7106 - val_root_mean_squared_error: 0.3564\n",
            "Epoch 81/100\n",
            "250/250 [==============================] - 1s 3ms/step - loss: 0.6798 - root_mean_squared_error: 0.3357 - val_loss: 0.7112 - val_root_mean_squared_error: 0.3567\n",
            "Epoch 82/100\n",
            "250/250 [==============================] - 1s 3ms/step - loss: 0.6800 - root_mean_squared_error: 0.3359 - val_loss: 0.7104 - val_root_mean_squared_error: 0.3562\n",
            "Epoch 83/100\n",
            "250/250 [==============================] - 1s 2ms/step - loss: 0.6798 - root_mean_squared_error: 0.3357 - val_loss: 0.7098 - val_root_mean_squared_error: 0.3558\n",
            "Epoch 84/100\n",
            "250/250 [==============================] - 1s 3ms/step - loss: 0.6779 - root_mean_squared_error: 0.3343 - val_loss: 0.7100 - val_root_mean_squared_error: 0.3559\n",
            "Epoch 85/100\n",
            "250/250 [==============================] - 1s 3ms/step - loss: 0.6799 - root_mean_squared_error: 0.3357 - val_loss: 0.7111 - val_root_mean_squared_error: 0.3566\n",
            "Epoch 86/100\n",
            "250/250 [==============================] - 1s 3ms/step - loss: 0.6793 - root_mean_squared_error: 0.3353 - val_loss: 0.7098 - val_root_mean_squared_error: 0.3558\n",
            "Epoch 87/100\n",
            "250/250 [==============================] - 1s 3ms/step - loss: 0.6779 - root_mean_squared_error: 0.3343 - val_loss: 0.7102 - val_root_mean_squared_error: 0.3560\n",
            "Epoch 88/100\n",
            "250/250 [==============================] - 1s 2ms/step - loss: 0.6792 - root_mean_squared_error: 0.3352 - val_loss: 0.7098 - val_root_mean_squared_error: 0.3559\n",
            "Epoch 89/100\n",
            "250/250 [==============================] - 1s 2ms/step - loss: 0.6792 - root_mean_squared_error: 0.3353 - val_loss: 0.7098 - val_root_mean_squared_error: 0.3558\n",
            "Epoch 90/100\n",
            "250/250 [==============================] - 1s 3ms/step - loss: 0.6783 - root_mean_squared_error: 0.3346 - val_loss: 0.7104 - val_root_mean_squared_error: 0.3562\n",
            "Epoch 91/100\n",
            "250/250 [==============================] - 1s 3ms/step - loss: 0.6788 - root_mean_squared_error: 0.3350 - val_loss: 0.7106 - val_root_mean_squared_error: 0.3563\n",
            "Epoch 92/100\n",
            "250/250 [==============================] - 1s 2ms/step - loss: 0.6784 - root_mean_squared_error: 0.3346 - val_loss: 0.7106 - val_root_mean_squared_error: 0.3564\n",
            "Epoch 93/100\n",
            "250/250 [==============================] - 1s 3ms/step - loss: 0.6783 - root_mean_squared_error: 0.3346 - val_loss: 0.7099 - val_root_mean_squared_error: 0.3559\n",
            "Epoch 94/100\n",
            "250/250 [==============================] - 1s 3ms/step - loss: 0.6789 - root_mean_squared_error: 0.3350 - val_loss: 0.7105 - val_root_mean_squared_error: 0.3563\n",
            "Epoch 95/100\n",
            "250/250 [==============================] - 1s 3ms/step - loss: 0.6783 - root_mean_squared_error: 0.3346 - val_loss: 0.7111 - val_root_mean_squared_error: 0.3567\n",
            "Epoch 96/100\n",
            "250/250 [==============================] - 1s 3ms/step - loss: 0.6795 - root_mean_squared_error: 0.3354 - val_loss: 0.7112 - val_root_mean_squared_error: 0.3568\n",
            "Epoch 97/100\n",
            "250/250 [==============================] - 1s 3ms/step - loss: 0.6785 - root_mean_squared_error: 0.3347 - val_loss: 0.7117 - val_root_mean_squared_error: 0.3571\n",
            "Epoch 98/100\n",
            "250/250 [==============================] - 1s 3ms/step - loss: 0.6784 - root_mean_squared_error: 0.3346 - val_loss: 0.7114 - val_root_mean_squared_error: 0.3569\n",
            "Epoch 99/100\n",
            "250/250 [==============================] - 1s 3ms/step - loss: 0.6795 - root_mean_squared_error: 0.3355 - val_loss: 0.7110 - val_root_mean_squared_error: 0.3567\n",
            "Epoch 100/100\n",
            "250/250 [==============================] - 1s 3ms/step - loss: 0.6781 - root_mean_squared_error: 0.3344 - val_loss: 0.7118 - val_root_mean_squared_error: 0.3572\n"
          ]
        }
      ]
    },
    {
      "cell_type": "markdown",
      "source": [
        "# Evaluasi Model"
      ],
      "metadata": {
        "id": "ra9CSATRfUBi"
      }
    },
    {
      "cell_type": "code",
      "source": [
        "model.evaluate(x=x_test, y=y_test)"
      ],
      "metadata": {
        "colab": {
          "base_uri": "https://localhost:8080/"
        },
        "id": "QrrGfFUEfXGi",
        "outputId": "4449560e-4ef9-4562-e14e-4d403516f9b4"
      },
      "execution_count": 20,
      "outputs": [
        {
          "output_type": "stream",
          "name": "stdout",
          "text": [
            "63/63 [==============================] - 0s 2ms/step - loss: 0.7118 - root_mean_squared_error: 0.3572\n"
          ]
        },
        {
          "output_type": "execute_result",
          "data": {
            "text/plain": [
              "[0.7117681503295898, 0.35717591643333435]"
            ]
          },
          "metadata": {},
          "execution_count": 20
        }
      ]
    },
    {
      "cell_type": "markdown",
      "source": [
        "# PLotting hasil training"
      ],
      "metadata": {
        "id": "IocX3xhqgRor"
      }
    },
    {
      "cell_type": "code",
      "source": [
        "import matplotlib.pyplot as plt\n",
        "\n",
        "plt.plot(history.history['root_mean_squared_error'])\n",
        "plt.plot(history.history['val_root_mean_squared_error'])\n",
        "plt.title('model_metrics')\n",
        "plt.ylabel('root_mean_squared_error')\n",
        "plt.xlabel('epoch')\n",
        "plt.ylim(ymin=0, ymax=0.4)\n",
        "plt.legend(['train', 'test'], loc='center left')\n",
        "plt.show()"
      ],
      "metadata": {
        "colab": {
          "base_uri": "https://localhost:8080/",
          "height": 295
        },
        "id": "y_dg90GzgXKt",
        "outputId": "ac30fc1d-414e-4e22-8dfa-feb07b10dcb4"
      },
      "execution_count": 21,
      "outputs": [
        {
          "output_type": "display_data",
          "data": {
            "text/plain": [
              "<Figure size 432x288 with 1 Axes>"
            ],
            "image/png": "[encoded data removed]"
          },
          "metadata": {
            "needs_background": "light"
          }
        }
      ]
    },
    {
      "cell_type": "markdown",
      "source": [
        "# Contoh Penerapan Model"
      ],
      "metadata": {
        "id": "GCrCxubegsEc"
      }
    },
    {
      "cell_type": "code",
      "source": [
        "hotel.columns"
      ],
      "metadata": {
        "colab": {
          "base_uri": "https://localhost:8080/"
        },
        "id": "aKhfmovIg6yM",
        "outputId": "a145e91b-9094-4531-d436-d2fae355df64"
      },
      "execution_count": 22,
      "outputs": [
        {
          "output_type": "execute_result",
          "data": {
            "text/plain": [
              "Index(['Id', 'Name', 'Stars', 'Ratings', 'Price', 'Addres', 'Coordinate',\n",
              "       'Description', 'Lat', 'Long'],\n",
              "      dtype='object')"
            ]
          },
          "metadata": {},
          "execution_count": 22
        }
      ]
    },
    {
      "cell_type": "code",
      "source": [
        "place_df = hotel[['Id', 'Name', 'Stars', 'Ratings', 'Price', 'Addres', 'Coordinate',\n",
        "       'Description', 'Lat', 'Long']]\n",
        "place_df.columns = ['Id', 'Name', 'Stars', 'Ratings', 'Price', 'Addres', 'Coordinate',\n",
        "       'Description', 'Lat', 'Long']\n",
        "df = rating.copy()"
      ],
      "metadata": {
        "id": "_REOOM6Egyxc"
      },
      "execution_count": 24,
      "outputs": []
    },
    {
      "cell_type": "code",
      "source": [
        "# Mengambil sample user\n",
        "user_id = df.User_Id.sample(1).iloc[0]\n",
        "place_visited_by_user = df[df.User_Id == user_id]"
      ],
      "metadata": {
        "id": "WVm1Ct4ShYcx"
      },
      "execution_count": 25,
      "outputs": []
    },
    {
      "cell_type": "code",
      "source": [
        "# Membuat data lokasi yang belum dikunjungi user\n",
        "place_not_visited = place_df[~place_df['Id'].isin(place_visited_by_user.Place_Id.values)]['Id'] \n",
        "place_not_visited = list(\n",
        "    set(place_not_visited).intersection(set(place_to_place_encoded.keys()))\n",
        ")\n",
        " \n",
        "place_not_visited = [[place_to_place_encoded.get(x)] for x in place_not_visited]\n",
        "user_encoder = user_to_user_encoded.get(user_id)\n",
        "user_place_array = np.hstack(\n",
        "    ([[user_encoder]] * len(place_not_visited), place_not_visited)\n",
        ")"
      ],
      "metadata": {
        "id": "QJJhP6D2heDN"
      },
      "execution_count": 26,
      "outputs": []
    },
    {
      "cell_type": "code",
      "source": [
        "# Mengambil top 5 recommendation\n",
        "ratings = model.predict(user_place_array).flatten()\n",
        "top_ratings_indices = ratings.argsort()[-5:][::-1]\n",
        "recommended_place_ids = [\n",
        "    place_encoded_to_place.get(place_not_visited[x][0]) for x in top_ratings_indices\n",
        "]\n",
        " \n",
        "\n",
        "print('')\n",
        "print('----' * 15)\n",
        "print('Top 5 place recommendation')\n",
        "print('----' * 15)\n",
        " \n",
        "recommended_place = place_df[place_df['Id'].isin(recommended_place_ids)]\n",
        "for row, i in zip(recommended_place.itertuples(), range(1,8)):\n",
        "    print(i,'.', row.Name, '\\n    ', row.Addres, ',', 'Harga Tiket Masuk ', row.Price, ',', 'Rating Wisata ', row.Ratings,'\\n')\n",
        "\n",
        "print('==='*15)"
      ],
      "metadata": {
        "colab": {
          "base_uri": "https://localhost:8080/"
        },
        "id": "ZZ3YY6Xshq6t",
        "outputId": "a9eeefa3-2214-4bba-ab2c-4846974fec0f"
      },
      "execution_count": 27,
      "outputs": [
        {
          "output_type": "stream",
          "name": "stdout",
          "text": [
            "\n",
            "------------------------------------------------------------\n",
            "Top 5 place recommendation\n",
            "------------------------------------------------------------\n",
            "1 . Hadi Poetra Hotel \n",
            "     Jl. Raya Kuta No.323-378, Kuta, Kec. Kuta, Kabupaten Badung, Bali 80361 , Harga Tiket Masuk  187,789.00 , Rating Wisata  4.2 \n",
            "\n",
            "2 . Urban Style Biz Premier (Formerly Berry Biz Hotel) \n",
            "     Jl. Sunset Road No.99, Seminyak, Kec. Kuta, Kabupaten Badung, Bali 80361 , Harga Tiket Masuk  208,651.00 , Rating Wisata  4.1 \n",
            "\n",
            "3 . Golden Tulip Jineng Resort Bali \n",
            "     Jl. Sunset Road No.98, Kuta, Kec. Kuta, Kabupaten Badung, Bali 80361 , Harga Tiket Masuk  283,936.00 , Rating Wisata  4.4 \n",
            "\n",
            "4 . Paditeras Boutique Hotel Seminyak \n",
            "     Jl. Lb. Sari No.19, Seminyak, Kec. Kuta Utara, Kabupaten Badung, Bali 80361 , Harga Tiket Masuk  Nan , Rating Wisata  4.3 \n",
            "\n",
            "5 . J Hotel Kuta \n",
            "     Jalan Raya Kuta No.88D, Kuta, Kec. Kuta, Kabupaten Badung, Bali 80361 , Harga Tiket Masuk  170,668.00 , Rating Wisata  4.2 \n",
            "\n",
            "=============================================\n"
          ]
        }
      ]
    },
    {
      "cell_type": "markdown",
      "source": [
        "# Save Model"
      ],
      "metadata": {
        "id": "FaLxTz44idEW"
      }
    },
    {
      "cell_type": "code",
      "source": [
        "converter = tf.lite.TFLiteConverter.from_keras_model(model)\n",
        "tflite_model = converter.convert()\n",
        "\n",
        "# Save the model.\n",
        "with open('model_hotel_bali.tflite', 'wb') as f:\n",
        "  f.write(tflite_model)"
      ],
      "metadata": {
        "colab": {
          "base_uri": "https://localhost:8080/"
        },
        "id": "0uulYviSifCL",
        "outputId": "742bb51a-f977-48c3-a097-c25d167cee3a"
      },
      "execution_count": 28,
      "outputs": [
        {
          "output_type": "stream",
          "name": "stdout",
          "text": [
            "INFO:tensorflow:Assets written to: /tmp/tmpb4ula_3l/assets\n"
          ]
        },
        {
          "output_type": "stream",
          "name": "stderr",
          "text": [
            "WARNING:absl:Buffer deduplication procedure will be skipped when flatbuffer library is not properly loaded\n"
          ]
        }
      ]
    }
  ]
}
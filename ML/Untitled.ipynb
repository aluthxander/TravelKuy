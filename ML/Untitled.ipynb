{
 "cells": [
  {
   "cell_type": "code",
   "execution_count": 1,
   "id": "5574adf7",
   "metadata": {},
   "outputs": [],
   "source": [
    "import pandas as pd\n",
    "\n",
    "wisata = pd.read_csv('wisata_jogja.csv')\n",
    "ratings = pd.read_csv('rating.csv')"
   ]
  },
  {
   "cell_type": "code",
   "execution_count": 2,
   "id": "52636afb",
   "metadata": {},
   "outputs": [
    {
     "data": {
      "text/html": [
       "<div>\n",
       "<style scoped>\n",
       "    .dataframe tbody tr th:only-of-type {\n",
       "        vertical-align: middle;\n",
       "    }\n",
       "\n",
       "    .dataframe tbody tr th {\n",
       "        vertical-align: top;\n",
       "    }\n",
       "\n",
       "    .dataframe thead th {\n",
       "        text-align: right;\n",
       "    }\n",
       "</style>\n",
       "<table border=\"1\" class=\"dataframe\">\n",
       "  <thead>\n",
       "    <tr style=\"text-align: right;\">\n",
       "      <th></th>\n",
       "      <th>wisata_id</th>\n",
       "      <th>nama</th>\n",
       "      <th>alamat</th>\n",
       "      <th>long</th>\n",
       "      <th>lat</th>\n",
       "      <th>harga</th>\n",
       "      <th>gambar_1</th>\n",
       "      <th>gambar_2</th>\n",
       "      <th>gambar_3</th>\n",
       "      <th>gambar_4</th>\n",
       "      <th>deskripsi</th>\n",
       "    </tr>\n",
       "  </thead>\n",
       "  <tbody>\n",
       "    <tr>\n",
       "      <th>0</th>\n",
       "      <td>1</td>\n",
       "      <td>Bungker Kaliadem</td>\n",
       "      <td>Kinahrejo, Harjobinangun, Pakem, Sleman, Jogja...</td>\n",
       "      <td>-7.582.675.189.166.710</td>\n",
       "      <td>11.447.735.240.895</td>\n",
       "      <td>10000 - 65000</td>\n",
       "      <td>https://cdn.idntimes.com/content-images/post/2...</td>\n",
       "      <td>https://www.wisatasleman.com/wp-content/upload...</td>\n",
       "      <td>https://cdn-image.hipwee.com/wp-content/upload...</td>\n",
       "      <td>https://wisatakuliner.id/wp-content/uploads/20...</td>\n",
       "      <td>Bunker ini dulunya adalah sebuah lokasi perkem...</td>\n",
       "    </tr>\n",
       "    <tr>\n",
       "      <th>1</th>\n",
       "      <td>2</td>\n",
       "      <td>Bukit Kali Kuning</td>\n",
       "      <td>Jl. Bebeng, Palemsari, Umbulharjo, Cangkringan...</td>\n",
       "      <td>-7.592.346.990.429.340</td>\n",
       "      <td>11.044.147.376.788.400</td>\n",
       "      <td>3000 -20000</td>\n",
       "      <td>https://www.alodiatour.com/wp-content/uploads/...</td>\n",
       "      <td>https://jogjakita.co.id/wp-content/uploads/202...</td>\n",
       "      <td>https://www.alodiatour.com/wp-content/uploads/...</td>\n",
       "      <td>https://jogjakita.co.id/wp-content/uploads/202...</td>\n",
       "      <td>Bukit Kali Kuning merupakan obyek wisata menar...</td>\n",
       "    </tr>\n",
       "    <tr>\n",
       "      <th>2</th>\n",
       "      <td>3</td>\n",
       "      <td>Museum Ullen Sentalu</td>\n",
       "      <td>Jalan Boyong KM 25, Kaliurang Barat, Desa Harg...</td>\n",
       "      <td>-7.597.717.086.154.890</td>\n",
       "      <td>11.042.339.602.749.400</td>\n",
       "      <td>35000 - 55000</td>\n",
       "      <td>https://www.alodiatour.com/wp-content/uploads/...</td>\n",
       "      <td>https://travelspromo.com/wp-content/uploads/20...</td>\n",
       "      <td>https://idetrips.com/wp-content/uploads/2018/0...</td>\n",
       "      <td>https://www.jogjaparadise.com/wp-content/uploa...</td>\n",
       "      <td>Museum Ullen Sentalu adalah salah satu museum ...</td>\n",
       "    </tr>\n",
       "    <tr>\n",
       "      <th>3</th>\n",
       "      <td>4</td>\n",
       "      <td>Taman Pintar Jogja</td>\n",
       "      <td>l. Panembahan Senopati No.1-3, Ngupasan, Gondo...</td>\n",
       "      <td>-78.006.705.034.793.100</td>\n",
       "      <td>11.036.765.476.471.200</td>\n",
       "      <td>10000 - 18000</td>\n",
       "      <td>https://www.alodiatour.com/wp-content/uploads/...</td>\n",
       "      <td>https://idetrips.com/wp-content/uploads/2018/0...</td>\n",
       "      <td>https://www.yogyes.com/id/yogyakarta-tourism-o...</td>\n",
       "      <td>https://i1.wp.com/tempatwisataindonesia.id/wp-...</td>\n",
       "      <td>Taman Pintar Jogjakarta merupakan tempat berma...</td>\n",
       "    </tr>\n",
       "    <tr>\n",
       "      <th>4</th>\n",
       "      <td>5</td>\n",
       "      <td>Upside Down Word</td>\n",
       "      <td>l. Ring Road Utara Jl. Utama, Puyeran, Maguwoh...</td>\n",
       "      <td>-7.763.404.999.993.700</td>\n",
       "      <td>11.042.042.399.997.100</td>\n",
       "      <td>40000 - 80000</td>\n",
       "      <td>https://www.alodiatour.com/wp-content/uploads/...</td>\n",
       "      <td>https://nowbali.co.id/wp-content/uploads/2017/...</td>\n",
       "      <td>https://osmiva.com/wp-content/uploads/2017/11/...</td>\n",
       "      <td>https://www.vivomigsgee.com/wp-content/uploads...</td>\n",
       "      <td>Upside Down World Jogja – Mendapatkan hasil fo...</td>\n",
       "    </tr>\n",
       "  </tbody>\n",
       "</table>\n",
       "</div>"
      ],
      "text/plain": [
       "   wisata_id                  nama  \\\n",
       "0          1      Bungker Kaliadem   \n",
       "1          2     Bukit Kali Kuning   \n",
       "2          3  Museum Ullen Sentalu   \n",
       "3          4    Taman Pintar Jogja   \n",
       "4          5      Upside Down Word   \n",
       "\n",
       "                                              alamat                     long  \\\n",
       "0  Kinahrejo, Harjobinangun, Pakem, Sleman, Jogja...   -7.582.675.189.166.710   \n",
       "1  Jl. Bebeng, Palemsari, Umbulharjo, Cangkringan...   -7.592.346.990.429.340   \n",
       "2  Jalan Boyong KM 25, Kaliurang Barat, Desa Harg...   -7.597.717.086.154.890   \n",
       "3  l. Panembahan Senopati No.1-3, Ngupasan, Gondo...  -78.006.705.034.793.100   \n",
       "4  l. Ring Road Utara Jl. Utama, Puyeran, Maguwoh...   -7.763.404.999.993.700   \n",
       "\n",
       "                      lat          harga  \\\n",
       "0      11.447.735.240.895  10000 - 65000   \n",
       "1  11.044.147.376.788.400    3000 -20000   \n",
       "2  11.042.339.602.749.400  35000 - 55000   \n",
       "3  11.036.765.476.471.200  10000 - 18000   \n",
       "4  11.042.042.399.997.100  40000 - 80000   \n",
       "\n",
       "                                            gambar_1  \\\n",
       "0  https://cdn.idntimes.com/content-images/post/2...   \n",
       "1  https://www.alodiatour.com/wp-content/uploads/...   \n",
       "2  https://www.alodiatour.com/wp-content/uploads/...   \n",
       "3  https://www.alodiatour.com/wp-content/uploads/...   \n",
       "4  https://www.alodiatour.com/wp-content/uploads/...   \n",
       "\n",
       "                                            gambar_2  \\\n",
       "0  https://www.wisatasleman.com/wp-content/upload...   \n",
       "1  https://jogjakita.co.id/wp-content/uploads/202...   \n",
       "2  https://travelspromo.com/wp-content/uploads/20...   \n",
       "3  https://idetrips.com/wp-content/uploads/2018/0...   \n",
       "4  https://nowbali.co.id/wp-content/uploads/2017/...   \n",
       "\n",
       "                                            gambar_3  \\\n",
       "0  https://cdn-image.hipwee.com/wp-content/upload...   \n",
       "1  https://www.alodiatour.com/wp-content/uploads/...   \n",
       "2  https://idetrips.com/wp-content/uploads/2018/0...   \n",
       "3  https://www.yogyes.com/id/yogyakarta-tourism-o...   \n",
       "4  https://osmiva.com/wp-content/uploads/2017/11/...   \n",
       "\n",
       "                                            gambar_4  \\\n",
       "0  https://wisatakuliner.id/wp-content/uploads/20...   \n",
       "1  https://jogjakita.co.id/wp-content/uploads/202...   \n",
       "2  https://www.jogjaparadise.com/wp-content/uploa...   \n",
       "3  https://i1.wp.com/tempatwisataindonesia.id/wp-...   \n",
       "4  https://www.vivomigsgee.com/wp-content/uploads...   \n",
       "\n",
       "                                           deskripsi  \n",
       "0  Bunker ini dulunya adalah sebuah lokasi perkem...  \n",
       "1  Bukit Kali Kuning merupakan obyek wisata menar...  \n",
       "2  Museum Ullen Sentalu adalah salah satu museum ...  \n",
       "3  Taman Pintar Jogjakarta merupakan tempat berma...  \n",
       "4  Upside Down World Jogja – Mendapatkan hasil fo...  "
      ]
     },
     "execution_count": 2,
     "metadata": {},
     "output_type": "execute_result"
    }
   ],
   "source": [
    "wisata.head()"
   ]
  },
  {
   "cell_type": "code",
   "execution_count": 3,
   "id": "6d102ea5",
   "metadata": {},
   "outputs": [
    {
     "data": {
      "text/html": [
       "<div>\n",
       "<style scoped>\n",
       "    .dataframe tbody tr th:only-of-type {\n",
       "        vertical-align: middle;\n",
       "    }\n",
       "\n",
       "    .dataframe tbody tr th {\n",
       "        vertical-align: top;\n",
       "    }\n",
       "\n",
       "    .dataframe thead th {\n",
       "        text-align: right;\n",
       "    }\n",
       "</style>\n",
       "<table border=\"1\" class=\"dataframe\">\n",
       "  <thead>\n",
       "    <tr style=\"text-align: right;\">\n",
       "      <th></th>\n",
       "      <th>wisata_id</th>\n",
       "      <th>user_id</th>\n",
       "      <th>user_rating</th>\n",
       "    </tr>\n",
       "  </thead>\n",
       "  <tbody>\n",
       "    <tr>\n",
       "      <th>0</th>\n",
       "      <td>4</td>\n",
       "      <td>1</td>\n",
       "      <td>4</td>\n",
       "    </tr>\n",
       "    <tr>\n",
       "      <th>1</th>\n",
       "      <td>25</td>\n",
       "      <td>1</td>\n",
       "      <td>2</td>\n",
       "    </tr>\n",
       "    <tr>\n",
       "      <th>2</th>\n",
       "      <td>12</td>\n",
       "      <td>2</td>\n",
       "      <td>4</td>\n",
       "    </tr>\n",
       "    <tr>\n",
       "      <th>3</th>\n",
       "      <td>2</td>\n",
       "      <td>2</td>\n",
       "      <td>4</td>\n",
       "    </tr>\n",
       "    <tr>\n",
       "      <th>4</th>\n",
       "      <td>6</td>\n",
       "      <td>3</td>\n",
       "      <td>3</td>\n",
       "    </tr>\n",
       "  </tbody>\n",
       "</table>\n",
       "</div>"
      ],
      "text/plain": [
       "   wisata_id  user_id  user_rating\n",
       "0          4        1            4\n",
       "1         25        1            2\n",
       "2         12        2            4\n",
       "3          2        2            4\n",
       "4          6        3            3"
      ]
     },
     "execution_count": 3,
     "metadata": {},
     "output_type": "execute_result"
    }
   ],
   "source": [
    "ratings.head()"
   ]
  },
  {
   "cell_type": "code",
   "execution_count": 4,
   "id": "eff00ccd",
   "metadata": {},
   "outputs": [],
   "source": [
    "n_wisata = wisata.wisata_id.nunique()\n",
    "n_user = ratings.user_id.nunique()"
   ]
  },
  {
   "cell_type": "code",
   "execution_count": 5,
   "id": "13094f00",
   "metadata": {},
   "outputs": [
    {
     "data": {
      "text/plain": [
       "25"
      ]
     },
     "execution_count": 5,
     "metadata": {},
     "output_type": "execute_result"
    }
   ],
   "source": [
    "n_wisata"
   ]
  },
  {
   "cell_type": "code",
   "execution_count": 6,
   "id": "13b6f8d4",
   "metadata": {},
   "outputs": [
    {
     "data": {
      "text/plain": [
       "31"
      ]
     },
     "execution_count": 6,
     "metadata": {},
     "output_type": "execute_result"
    }
   ],
   "source": [
    "n_user"
   ]
  },
  {
   "cell_type": "code",
   "execution_count": 7,
   "id": "9ba232ec",
   "metadata": {},
   "outputs": [],
   "source": [
    "from sklearn.model_selection import train_test_split\n",
    "\n",
    "train, test = train_test_split(ratings, test_size=0.2)"
   ]
  },
  {
   "cell_type": "code",
   "execution_count": 8,
   "id": "15a79721",
   "metadata": {},
   "outputs": [
    {
     "name": "stdout",
     "output_type": "stream",
     "text": [
      "85\n"
     ]
    },
    {
     "data": {
      "text/plain": [
       "22"
      ]
     },
     "execution_count": 8,
     "metadata": {},
     "output_type": "execute_result"
    }
   ],
   "source": [
    "print(len(train))\n",
    "len(test)"
   ]
  },
  {
   "cell_type": "code",
   "execution_count": 9,
   "id": "ecf14353",
   "metadata": {},
   "outputs": [
    {
     "name": "stderr",
     "output_type": "stream",
     "text": [
      "2022-05-16 17:22:21.157812: W tensorflow/stream_executor/platform/default/dso_loader.cc:64] Could not load dynamic library 'libcudart.so.11.0'; dlerror: libcudart.so.11.0: cannot open shared object file: No such file or directory\n",
      "2022-05-16 17:22:21.157849: I tensorflow/stream_executor/cuda/cudart_stub.cc:29] Ignore above cudart dlerror if you do not have a GPU set up on your machine.\n",
      "2022-05-16 17:22:22.739950: W tensorflow/stream_executor/platform/default/dso_loader.cc:64] Could not load dynamic library 'libcuda.so.1'; dlerror: libcuda.so.1: cannot open shared object file: No such file or directory\n",
      "2022-05-16 17:22:22.739992: W tensorflow/stream_executor/cuda/cuda_driver.cc:269] failed call to cuInit: UNKNOWN ERROR (303)\n",
      "2022-05-16 17:22:22.740023: I tensorflow/stream_executor/cuda/cuda_diagnostics.cc:156] kernel driver does not appear to be running on this host (noogler): /proc/driver/nvidia/version does not exist\n"
     ]
    }
   ],
   "source": [
    "\n",
    "from tensorflow.keras.models import Model\n",
    "from tensorflow.keras.layers import Input, Embedding, Dot, Flatten\n",
    "\n",
    "EMBEDDING_DIM = 3\n",
    "\n",
    "wisata_input = Input(shape=1)\n",
    "user_input = Input(shape=1)\n",
    "\n",
    "wisata_embedding = Embedding(n_wisata + 1, EMBEDDING_DIM)(wisata_input)\n",
    "user_embedding = Embedding(n_user + 1, EMBEDDING_DIM)(user_input)\n",
    "\n",
    "wisata_flat = Flatten()(wisata_embedding)\n",
    "user_flat = Flatten()(user_embedding)\n",
    "\n",
    "output = Dot(1)([wisata_flat, user_flat])\n",
    "\n",
    "model = Model([wisata_input, user_input], [output])"
   ]
  },
  {
   "cell_type": "code",
   "execution_count": 10,
   "id": "7f48d102",
   "metadata": {},
   "outputs": [],
   "source": [
    "model.compile(optimizer='adam', loss='mse')"
   ]
  },
  {
   "cell_type": "code",
   "execution_count": 13,
   "id": "52ab348b",
   "metadata": {},
   "outputs": [
    {
     "name": "stdout",
     "output_type": "stream",
     "text": [
      "Epoch 1/10\n"
     ]
    },
    {
     "ename": "InvalidArgumentError",
     "evalue": "Graph execution error:\n\nDetected at node 'model/embedding_1/embedding_lookup' defined at (most recent call last):\n    File \"/home/wan/miniconda3/lib/python3.8/runpy.py\", line 194, in _run_module_as_main\n      return _run_code(code, main_globals, None,\n    File \"/home/wan/miniconda3/lib/python3.8/runpy.py\", line 87, in _run_code\n      exec(code, run_globals)\n    File \"/home/wan/miniconda3/lib/python3.8/site-packages/ipykernel_launcher.py\", line 17, in <module>\n      app.launch_new_instance()\n    File \"/home/wan/miniconda3/lib/python3.8/site-packages/traitlets/config/application.py\", line 846, in launch_instance\n      app.start()\n    File \"/home/wan/miniconda3/lib/python3.8/site-packages/ipykernel/kernelapp.py\", line 712, in start\n      self.io_loop.start()\n    File \"/home/wan/miniconda3/lib/python3.8/site-packages/tornado/platform/asyncio.py\", line 199, in start\n      self.asyncio_loop.run_forever()\n    File \"/home/wan/miniconda3/lib/python3.8/asyncio/base_events.py\", line 570, in run_forever\n      self._run_once()\n    File \"/home/wan/miniconda3/lib/python3.8/asyncio/base_events.py\", line 1859, in _run_once\n      handle._run()\n    File \"/home/wan/miniconda3/lib/python3.8/asyncio/events.py\", line 81, in _run\n      self._context.run(self._callback, *self._args)\n    File \"/home/wan/miniconda3/lib/python3.8/site-packages/ipykernel/kernelbase.py\", line 504, in dispatch_queue\n      await self.process_one()\n    File \"/home/wan/miniconda3/lib/python3.8/site-packages/ipykernel/kernelbase.py\", line 493, in process_one\n      await dispatch(*args)\n    File \"/home/wan/miniconda3/lib/python3.8/site-packages/ipykernel/kernelbase.py\", line 400, in dispatch_shell\n      await result\n    File \"/home/wan/miniconda3/lib/python3.8/site-packages/ipykernel/kernelbase.py\", line 724, in execute_request\n      reply_content = await reply_content\n    File \"/home/wan/miniconda3/lib/python3.8/site-packages/ipykernel/ipkernel.py\", line 390, in do_execute\n      res = shell.run_cell(code, store_history=store_history, silent=silent)\n    File \"/home/wan/miniconda3/lib/python3.8/site-packages/ipykernel/zmqshell.py\", line 528, in run_cell\n      return super().run_cell(*args, **kwargs)\n    File \"/home/wan/miniconda3/lib/python3.8/site-packages/IPython/core/interactiveshell.py\", line 2863, in run_cell\n      result = self._run_cell(\n    File \"/home/wan/miniconda3/lib/python3.8/site-packages/IPython/core/interactiveshell.py\", line 2909, in _run_cell\n      return runner(coro)\n    File \"/home/wan/miniconda3/lib/python3.8/site-packages/IPython/core/async_helpers.py\", line 129, in _pseudo_sync_runner\n      coro.send(None)\n    File \"/home/wan/miniconda3/lib/python3.8/site-packages/IPython/core/interactiveshell.py\", line 3106, in run_cell_async\n      has_raised = await self.run_ast_nodes(code_ast.body, cell_name,\n    File \"/home/wan/miniconda3/lib/python3.8/site-packages/IPython/core/interactiveshell.py\", line 3309, in run_ast_nodes\n      if await self.run_code(code, result, async_=asy):\n    File \"/home/wan/miniconda3/lib/python3.8/site-packages/IPython/core/interactiveshell.py\", line 3369, in run_code\n      exec(code_obj, self.user_global_ns, self.user_ns)\n    File \"/tmp/ipykernel_36912/923512542.py\", line 1, in <cell line: 1>\n      model.fit(x=[train.wisata_id, train.user_id],\n    File \"/home/wan/miniconda3/lib/python3.8/site-packages/keras/utils/traceback_utils.py\", line 64, in error_handler\n      return fn(*args, **kwargs)\n    File \"/home/wan/miniconda3/lib/python3.8/site-packages/keras/engine/training.py\", line 1384, in fit\n      tmp_logs = self.train_function(iterator)\n    File \"/home/wan/miniconda3/lib/python3.8/site-packages/keras/engine/training.py\", line 1021, in train_function\n      return step_function(self, iterator)\n    File \"/home/wan/miniconda3/lib/python3.8/site-packages/keras/engine/training.py\", line 1010, in step_function\n      outputs = model.distribute_strategy.run(run_step, args=(data,))\n    File \"/home/wan/miniconda3/lib/python3.8/site-packages/keras/engine/training.py\", line 1000, in run_step\n      outputs = model.train_step(data)\n    File \"/home/wan/miniconda3/lib/python3.8/site-packages/keras/engine/training.py\", line 859, in train_step\n      y_pred = self(x, training=True)\n    File \"/home/wan/miniconda3/lib/python3.8/site-packages/keras/utils/traceback_utils.py\", line 64, in error_handler\n      return fn(*args, **kwargs)\n    File \"/home/wan/miniconda3/lib/python3.8/site-packages/keras/engine/base_layer.py\", line 1096, in __call__\n      outputs = call_fn(inputs, *args, **kwargs)\n    File \"/home/wan/miniconda3/lib/python3.8/site-packages/keras/utils/traceback_utils.py\", line 92, in error_handler\n      return fn(*args, **kwargs)\n    File \"/home/wan/miniconda3/lib/python3.8/site-packages/keras/engine/functional.py\", line 451, in call\n      return self._run_internal_graph(\n    File \"/home/wan/miniconda3/lib/python3.8/site-packages/keras/engine/functional.py\", line 589, in _run_internal_graph\n      outputs = node.layer(*args, **kwargs)\n    File \"/home/wan/miniconda3/lib/python3.8/site-packages/keras/utils/traceback_utils.py\", line 64, in error_handler\n      return fn(*args, **kwargs)\n    File \"/home/wan/miniconda3/lib/python3.8/site-packages/keras/engine/base_layer.py\", line 1096, in __call__\n      outputs = call_fn(inputs, *args, **kwargs)\n    File \"/home/wan/miniconda3/lib/python3.8/site-packages/keras/utils/traceback_utils.py\", line 92, in error_handler\n      return fn(*args, **kwargs)\n    File \"/home/wan/miniconda3/lib/python3.8/site-packages/keras/layers/embeddings.py\", line 197, in call\n      out = tf.nn.embedding_lookup(self.embeddings, inputs)\nNode: 'model/embedding_1/embedding_lookup'\nindices[5,0] = 45 is not in [0, 32)\n\t [[{{node model/embedding_1/embedding_lookup}}]] [Op:__inference_train_function_709]",
     "output_type": "error",
     "traceback": [
      "\u001b[0;31m---------------------------------------------------------------------------\u001b[0m",
      "\u001b[0;31mInvalidArgumentError\u001b[0m                      Traceback (most recent call last)",
      "Input \u001b[0;32mIn [13]\u001b[0m, in \u001b[0;36m<cell line: 1>\u001b[0;34m()\u001b[0m\n\u001b[0;32m----> 1\u001b[0m \u001b[43mmodel\u001b[49m\u001b[38;5;241;43m.\u001b[39;49m\u001b[43mfit\u001b[49m\u001b[43m(\u001b[49m\u001b[43mx\u001b[49m\u001b[38;5;241;43m=\u001b[39;49m\u001b[43m[\u001b[49m\u001b[43mtrain\u001b[49m\u001b[38;5;241;43m.\u001b[39;49m\u001b[43mwisata_id\u001b[49m\u001b[43m,\u001b[49m\u001b[43m \u001b[49m\u001b[43mtrain\u001b[49m\u001b[38;5;241;43m.\u001b[39;49m\u001b[43muser_id\u001b[49m\u001b[43m]\u001b[49m\u001b[43m,\u001b[49m\n\u001b[1;32m      2\u001b[0m \u001b[43m          \u001b[49m\u001b[43my\u001b[49m\u001b[38;5;241;43m=\u001b[39;49m\u001b[43mtrain\u001b[49m\u001b[38;5;241;43m.\u001b[39;49m\u001b[43muser_rating\u001b[49m\u001b[43m,\u001b[49m\n\u001b[1;32m      3\u001b[0m \u001b[43m          \u001b[49m\u001b[43mepochs\u001b[49m\u001b[38;5;241;43m=\u001b[39;49m\u001b[38;5;241;43m10\u001b[39;49m\u001b[43m,\u001b[49m\n\u001b[1;32m      4\u001b[0m \u001b[43m          \u001b[49m\u001b[43mbatch_size\u001b[49m\u001b[38;5;241;43m=\u001b[39;49m\u001b[38;5;241;43m9\u001b[39;49m\u001b[43m)\u001b[49m\n",
      "File \u001b[0;32m~/miniconda3/lib/python3.8/site-packages/keras/utils/traceback_utils.py:67\u001b[0m, in \u001b[0;36mfilter_traceback.<locals>.error_handler\u001b[0;34m(*args, **kwargs)\u001b[0m\n\u001b[1;32m     65\u001b[0m \u001b[38;5;28;01mexcept\u001b[39;00m \u001b[38;5;167;01mException\u001b[39;00m \u001b[38;5;28;01mas\u001b[39;00m e:  \u001b[38;5;66;03m# pylint: disable=broad-except\u001b[39;00m\n\u001b[1;32m     66\u001b[0m   filtered_tb \u001b[38;5;241m=\u001b[39m _process_traceback_frames(e\u001b[38;5;241m.\u001b[39m__traceback__)\n\u001b[0;32m---> 67\u001b[0m   \u001b[38;5;28;01mraise\u001b[39;00m e\u001b[38;5;241m.\u001b[39mwith_traceback(filtered_tb) \u001b[38;5;28;01mfrom\u001b[39;00m \u001b[38;5;28mNone\u001b[39m\n\u001b[1;32m     68\u001b[0m \u001b[38;5;28;01mfinally\u001b[39;00m:\n\u001b[1;32m     69\u001b[0m   \u001b[38;5;28;01mdel\u001b[39;00m filtered_tb\n",
      "File \u001b[0;32m~/miniconda3/lib/python3.8/site-packages/tensorflow/python/eager/execute.py:54\u001b[0m, in \u001b[0;36mquick_execute\u001b[0;34m(op_name, num_outputs, inputs, attrs, ctx, name)\u001b[0m\n\u001b[1;32m     52\u001b[0m \u001b[38;5;28;01mtry\u001b[39;00m:\n\u001b[1;32m     53\u001b[0m   ctx\u001b[38;5;241m.\u001b[39mensure_initialized()\n\u001b[0;32m---> 54\u001b[0m   tensors \u001b[38;5;241m=\u001b[39m pywrap_tfe\u001b[38;5;241m.\u001b[39mTFE_Py_Execute(ctx\u001b[38;5;241m.\u001b[39m_handle, device_name, op_name,\n\u001b[1;32m     55\u001b[0m                                       inputs, attrs, num_outputs)\n\u001b[1;32m     56\u001b[0m \u001b[38;5;28;01mexcept\u001b[39;00m core\u001b[38;5;241m.\u001b[39m_NotOkStatusException \u001b[38;5;28;01mas\u001b[39;00m e:\n\u001b[1;32m     57\u001b[0m   \u001b[38;5;28;01mif\u001b[39;00m name \u001b[38;5;129;01mis\u001b[39;00m \u001b[38;5;129;01mnot\u001b[39;00m \u001b[38;5;28;01mNone\u001b[39;00m:\n",
      "\u001b[0;31mInvalidArgumentError\u001b[0m: Graph execution error:\n\nDetected at node 'model/embedding_1/embedding_lookup' defined at (most recent call last):\n    File \"/home/wan/miniconda3/lib/python3.8/runpy.py\", line 194, in _run_module_as_main\n      return _run_code(code, main_globals, None,\n    File \"/home/wan/miniconda3/lib/python3.8/runpy.py\", line 87, in _run_code\n      exec(code, run_globals)\n    File \"/home/wan/miniconda3/lib/python3.8/site-packages/ipykernel_launcher.py\", line 17, in <module>\n      app.launch_new_instance()\n    File \"/home/wan/miniconda3/lib/python3.8/site-packages/traitlets/config/application.py\", line 846, in launch_instance\n      app.start()\n    File \"/home/wan/miniconda3/lib/python3.8/site-packages/ipykernel/kernelapp.py\", line 712, in start\n      self.io_loop.start()\n    File \"/home/wan/miniconda3/lib/python3.8/site-packages/tornado/platform/asyncio.py\", line 199, in start\n      self.asyncio_loop.run_forever()\n    File \"/home/wan/miniconda3/lib/python3.8/asyncio/base_events.py\", line 570, in run_forever\n      self._run_once()\n    File \"/home/wan/miniconda3/lib/python3.8/asyncio/base_events.py\", line 1859, in _run_once\n      handle._run()\n    File \"/home/wan/miniconda3/lib/python3.8/asyncio/events.py\", line 81, in _run\n      self._context.run(self._callback, *self._args)\n    File \"/home/wan/miniconda3/lib/python3.8/site-packages/ipykernel/kernelbase.py\", line 504, in dispatch_queue\n      await self.process_one()\n    File \"/home/wan/miniconda3/lib/python3.8/site-packages/ipykernel/kernelbase.py\", line 493, in process_one\n      await dispatch(*args)\n    File \"/home/wan/miniconda3/lib/python3.8/site-packages/ipykernel/kernelbase.py\", line 400, in dispatch_shell\n      await result\n    File \"/home/wan/miniconda3/lib/python3.8/site-packages/ipykernel/kernelbase.py\", line 724, in execute_request\n      reply_content = await reply_content\n    File \"/home/wan/miniconda3/lib/python3.8/site-packages/ipykernel/ipkernel.py\", line 390, in do_execute\n      res = shell.run_cell(code, store_history=store_history, silent=silent)\n    File \"/home/wan/miniconda3/lib/python3.8/site-packages/ipykernel/zmqshell.py\", line 528, in run_cell\n      return super().run_cell(*args, **kwargs)\n    File \"/home/wan/miniconda3/lib/python3.8/site-packages/IPython/core/interactiveshell.py\", line 2863, in run_cell\n      result = self._run_cell(\n    File \"/home/wan/miniconda3/lib/python3.8/site-packages/IPython/core/interactiveshell.py\", line 2909, in _run_cell\n      return runner(coro)\n    File \"/home/wan/miniconda3/lib/python3.8/site-packages/IPython/core/async_helpers.py\", line 129, in _pseudo_sync_runner\n      coro.send(None)\n    File \"/home/wan/miniconda3/lib/python3.8/site-packages/IPython/core/interactiveshell.py\", line 3106, in run_cell_async\n      has_raised = await self.run_ast_nodes(code_ast.body, cell_name,\n    File \"/home/wan/miniconda3/lib/python3.8/site-packages/IPython/core/interactiveshell.py\", line 3309, in run_ast_nodes\n      if await self.run_code(code, result, async_=asy):\n    File \"/home/wan/miniconda3/lib/python3.8/site-packages/IPython/core/interactiveshell.py\", line 3369, in run_code\n      exec(code_obj, self.user_global_ns, self.user_ns)\n    File \"/tmp/ipykernel_36912/923512542.py\", line 1, in <cell line: 1>\n      model.fit(x=[train.wisata_id, train.user_id],\n    File \"/home/wan/miniconda3/lib/python3.8/site-packages/keras/utils/traceback_utils.py\", line 64, in error_handler\n      return fn(*args, **kwargs)\n    File \"/home/wan/miniconda3/lib/python3.8/site-packages/keras/engine/training.py\", line 1384, in fit\n      tmp_logs = self.train_function(iterator)\n    File \"/home/wan/miniconda3/lib/python3.8/site-packages/keras/engine/training.py\", line 1021, in train_function\n      return step_function(self, iterator)\n    File \"/home/wan/miniconda3/lib/python3.8/site-packages/keras/engine/training.py\", line 1010, in step_function\n      outputs = model.distribute_strategy.run(run_step, args=(data,))\n    File \"/home/wan/miniconda3/lib/python3.8/site-packages/keras/engine/training.py\", line 1000, in run_step\n      outputs = model.train_step(data)\n    File \"/home/wan/miniconda3/lib/python3.8/site-packages/keras/engine/training.py\", line 859, in train_step\n      y_pred = self(x, training=True)\n    File \"/home/wan/miniconda3/lib/python3.8/site-packages/keras/utils/traceback_utils.py\", line 64, in error_handler\n      return fn(*args, **kwargs)\n    File \"/home/wan/miniconda3/lib/python3.8/site-packages/keras/engine/base_layer.py\", line 1096, in __call__\n      outputs = call_fn(inputs, *args, **kwargs)\n    File \"/home/wan/miniconda3/lib/python3.8/site-packages/keras/utils/traceback_utils.py\", line 92, in error_handler\n      return fn(*args, **kwargs)\n    File \"/home/wan/miniconda3/lib/python3.8/site-packages/keras/engine/functional.py\", line 451, in call\n      return self._run_internal_graph(\n    File \"/home/wan/miniconda3/lib/python3.8/site-packages/keras/engine/functional.py\", line 589, in _run_internal_graph\n      outputs = node.layer(*args, **kwargs)\n    File \"/home/wan/miniconda3/lib/python3.8/site-packages/keras/utils/traceback_utils.py\", line 64, in error_handler\n      return fn(*args, **kwargs)\n    File \"/home/wan/miniconda3/lib/python3.8/site-packages/keras/engine/base_layer.py\", line 1096, in __call__\n      outputs = call_fn(inputs, *args, **kwargs)\n    File \"/home/wan/miniconda3/lib/python3.8/site-packages/keras/utils/traceback_utils.py\", line 92, in error_handler\n      return fn(*args, **kwargs)\n    File \"/home/wan/miniconda3/lib/python3.8/site-packages/keras/layers/embeddings.py\", line 197, in call\n      out = tf.nn.embedding_lookup(self.embeddings, inputs)\nNode: 'model/embedding_1/embedding_lookup'\nindices[5,0] = 45 is not in [0, 32)\n\t [[{{node model/embedding_1/embedding_lookup}}]] [Op:__inference_train_function_709]"
     ]
    }
   ],
   "source": [
    "model.fit(x=[train.wisata_id, train.user_id],\n",
    "          y=train.user_rating,\n",
    "          epochs=10,\n",
    "          batch_size=9)"
   ]
  },
  {
   "cell_type": "code",
   "execution_count": null,
   "id": "42fd3496",
   "metadata": {},
   "outputs": [],
   "source": []
  }
 ],
 "metadata": {
  "kernelspec": {
   "display_name": "Python [conda env:root] *",
   "language": "python",
   "name": "conda-root-py"
  },
  "language_info": {
   "codemirror_mode": {
    "name": "ipython",
    "version": 3
   },
   "file_extension": ".py",
   "mimetype": "text/x-python",
   "name": "python",
   "nbconvert_exporter": "python",
   "pygments_lexer": "ipython3",
   "version": "3.8.10"
  },
  "vscode": {
   "interpreter": {
    "hash": "d062f8ae76328d88714b98914ef89d0893ba8080390ccc1ec7b3d1cd1dbae28b"
   }
  }
 },
 "nbformat": 4,
 "nbformat_minor": 5
}
